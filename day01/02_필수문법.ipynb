{
 "cells": [
  {
   "cell_type": "markdown",
   "id": "c8f3d764",
   "metadata": {},
   "source": [
    "## 변수타입"
   ]
  },
  {
   "cell_type": "code",
   "execution_count": 2,
   "id": "9711adf7",
   "metadata": {},
   "outputs": [],
   "source": [
    "## 정수형\n",
    "a = 13\n",
    "b = 4"
   ]
  },
  {
   "cell_type": "code",
   "execution_count": 3,
   "id": "2f57efd2",
   "metadata": {},
   "outputs": [
    {
     "data": {
      "text/plain": [
       "17"
      ]
     },
     "execution_count": 3,
     "metadata": {},
     "output_type": "execute_result"
    }
   ],
   "source": [
    "a + b"
   ]
  },
  {
   "cell_type": "code",
   "execution_count": 4,
   "id": "4e3cc986",
   "metadata": {},
   "outputs": [
    {
     "data": {
      "text/plain": [
       "9"
      ]
     },
     "execution_count": 4,
     "metadata": {},
     "output_type": "execute_result"
    }
   ],
   "source": [
    "a - b"
   ]
  },
  {
   "cell_type": "code",
   "execution_count": 5,
   "id": "d2cae4de",
   "metadata": {},
   "outputs": [
    {
     "data": {
      "text/plain": [
       "3.25"
      ]
     },
     "execution_count": 5,
     "metadata": {},
     "output_type": "execute_result"
    }
   ],
   "source": [
    "a / b"
   ]
  },
  {
   "cell_type": "code",
   "execution_count": 6,
   "id": "c43d94c5",
   "metadata": {},
   "outputs": [
    {
     "data": {
      "text/plain": [
       "3"
      ]
     },
     "execution_count": 6,
     "metadata": {},
     "output_type": "execute_result"
    }
   ],
   "source": [
    "a // b"
   ]
  },
  {
   "cell_type": "code",
   "execution_count": 7,
   "id": "88d126ab",
   "metadata": {},
   "outputs": [
    {
     "data": {
      "text/plain": [
       "1"
      ]
     },
     "execution_count": 7,
     "metadata": {},
     "output_type": "execute_result"
    }
   ],
   "source": [
    "a % b"
   ]
  },
  {
   "cell_type": "code",
   "execution_count": 8,
   "id": "157696fc",
   "metadata": {},
   "outputs": [
    {
     "data": {
      "text/plain": [
       "False"
      ]
     },
     "execution_count": 8,
     "metadata": {},
     "output_type": "execute_result"
    }
   ],
   "source": [
    "a == b"
   ]
  },
  {
   "cell_type": "code",
   "execution_count": 9,
   "id": "0cd3c4fd",
   "metadata": {},
   "outputs": [
    {
     "data": {
      "text/plain": [
       "28561"
      ]
     },
     "execution_count": 9,
     "metadata": {},
     "output_type": "execute_result"
    }
   ],
   "source": [
    "a ** b"
   ]
  },
  {
   "cell_type": "code",
   "execution_count": 10,
   "id": "c1066e8a",
   "metadata": {},
   "outputs": [
    {
     "data": {
      "text/plain": [
       "True"
      ]
     },
     "execution_count": 10,
     "metadata": {},
     "output_type": "execute_result"
    }
   ],
   "source": [
    "a != b"
   ]
  },
  {
   "cell_type": "code",
   "execution_count": 11,
   "id": "dc3f4f2f",
   "metadata": {},
   "outputs": [
    {
     "data": {
      "text/plain": [
       "True"
      ]
     },
     "execution_count": 11,
     "metadata": {},
     "output_type": "execute_result"
    }
   ],
   "source": [
    "a > b"
   ]
  },
  {
   "cell_type": "code",
   "execution_count": 12,
   "id": "4b35fa30",
   "metadata": {},
   "outputs": [
    {
     "data": {
      "text/plain": [
       "4"
      ]
     },
     "execution_count": 12,
     "metadata": {},
     "output_type": "execute_result"
    }
   ],
   "source": [
    "## 정수형 비트 연산\n",
    "## 13 -> 1101 / 4 -> 0100\n",
    "\n",
    "a & b   # 0100"
   ]
  },
  {
   "cell_type": "code",
   "execution_count": 13,
   "id": "18216f34",
   "metadata": {},
   "outputs": [
    {
     "data": {
      "text/plain": [
       "13"
      ]
     },
     "execution_count": 13,
     "metadata": {},
     "output_type": "execute_result"
    }
   ],
   "source": [
    "a | b"
   ]
  },
  {
   "cell_type": "code",
   "execution_count": 14,
   "id": "52faf866",
   "metadata": {},
   "outputs": [
    {
     "data": {
      "text/plain": [
       "9"
      ]
     },
     "execution_count": 14,
     "metadata": {},
     "output_type": "execute_result"
    }
   ],
   "source": [
    "a ^ b   # 1001"
   ]
  },
  {
   "cell_type": "code",
   "execution_count": 15,
   "id": "ecd038f3",
   "metadata": {},
   "outputs": [
    {
     "data": {
      "text/plain": [
       "-14"
      ]
     },
     "execution_count": 15,
     "metadata": {},
     "output_type": "execute_result"
    }
   ],
   "source": [
    "~a"
   ]
  },
  {
   "cell_type": "code",
   "execution_count": 18,
   "id": "03254679",
   "metadata": {},
   "outputs": [
    {
     "data": {
      "text/plain": [
       "52"
      ]
     },
     "execution_count": 18,
     "metadata": {},
     "output_type": "execute_result"
    }
   ],
   "source": [
    "a << 2  # 110100"
   ]
  },
  {
   "cell_type": "code",
   "execution_count": 19,
   "id": "b52d21d8",
   "metadata": {},
   "outputs": [
    {
     "data": {
      "text/plain": [
       "6"
      ]
     },
     "execution_count": 19,
     "metadata": {},
     "output_type": "execute_result"
    }
   ],
   "source": [
    "a >> 1  #0110"
   ]
  },
  {
   "cell_type": "code",
   "execution_count": 20,
   "id": "bbe4f845",
   "metadata": {},
   "outputs": [
    {
     "data": {
      "text/plain": [
       "True"
      ]
     },
     "execution_count": 20,
     "metadata": {},
     "output_type": "execute_result"
    }
   ],
   "source": [
    "(a > b) and (a != b)"
   ]
  },
  {
   "cell_type": "code",
   "execution_count": 21,
   "id": "a38aebe4",
   "metadata": {},
   "outputs": [
    {
     "data": {
      "text/plain": [
       "False"
      ]
     },
     "execution_count": 21,
     "metadata": {},
     "output_type": "execute_result"
    }
   ],
   "source": [
    "not a"
   ]
  },
  {
   "cell_type": "code",
   "execution_count": 22,
   "id": "2eaceaf2",
   "metadata": {},
   "outputs": [
    {
     "data": {
      "text/plain": [
       "True"
      ]
     },
     "execution_count": 22,
     "metadata": {},
     "output_type": "execute_result"
    }
   ],
   "source": [
    "not 0"
   ]
  },
  {
   "cell_type": "code",
   "execution_count": 23,
   "id": "2b5b041a",
   "metadata": {},
   "outputs": [
    {
     "data": {
      "text/plain": [
       "6.2"
      ]
     },
     "execution_count": 23,
     "metadata": {},
     "output_type": "execute_result"
    }
   ],
   "source": [
    "## 부동소수형\n",
    "2.5 + 3.7"
   ]
  },
  {
   "cell_type": "code",
   "execution_count": 24,
   "id": "6e264d03",
   "metadata": {},
   "outputs": [
    {
     "data": {
      "text/plain": [
       "3.1562499999999996"
      ]
     },
     "execution_count": 24,
     "metadata": {},
     "output_type": "execute_result"
    }
   ],
   "source": [
    "10.1 / 3.2"
   ]
  },
  {
   "cell_type": "code",
   "execution_count": 25,
   "id": "05414fca",
   "metadata": {},
   "outputs": [
    {
     "data": {
      "text/plain": [
       "3.1562499999999996"
      ]
     },
     "execution_count": 25,
     "metadata": {},
     "output_type": "execute_result"
    }
   ],
   "source": [
    "10.1 / 3.2"
   ]
  },
  {
   "cell_type": "code",
   "execution_count": 26,
   "id": "059527be",
   "metadata": {},
   "outputs": [
    {
     "data": {
      "text/plain": [
       "3.0"
      ]
     },
     "execution_count": 26,
     "metadata": {},
     "output_type": "execute_result"
    }
   ],
   "source": [
    "10.1 // 3.2"
   ]
  },
  {
   "cell_type": "code",
   "execution_count": 27,
   "id": "f2327ac7",
   "metadata": {},
   "outputs": [
    {
     "data": {
      "text/plain": [
       "0.4999999999999991"
      ]
     },
     "execution_count": 27,
     "metadata": {},
     "output_type": "execute_result"
    }
   ],
   "source": [
    "10.1 % 3.2"
   ]
  },
  {
   "cell_type": "markdown",
   "id": "f0240ed1",
   "metadata": {},
   "source": [
    "### 엡실론을 포함한 연산 \n",
    "- 0.1을 3 번 더한 값을 0.3으로 빼면?"
   ]
  },
  {
   "cell_type": "code",
   "execution_count": 28,
   "id": "63057de8",
   "metadata": {},
   "outputs": [],
   "source": [
    "c = 0.1"
   ]
  },
  {
   "cell_type": "code",
   "execution_count": 29,
   "id": "8f2dbaeb",
   "metadata": {},
   "outputs": [],
   "source": [
    "sum = c + c + c"
   ]
  },
  {
   "cell_type": "code",
   "execution_count": 30,
   "id": "0f08dd9e",
   "metadata": {},
   "outputs": [
    {
     "data": {
      "text/plain": [
       "5.551115123125783e-17"
      ]
     },
     "execution_count": 30,
     "metadata": {},
     "output_type": "execute_result"
    }
   ],
   "source": [
    "sum - 0.3"
   ]
  },
  {
   "cell_type": "code",
   "execution_count": 33,
   "id": "c1045c29",
   "metadata": {},
   "outputs": [
    {
     "data": {
      "text/plain": [
       "2.220446049250313e-16"
      ]
     },
     "execution_count": 33,
     "metadata": {},
     "output_type": "execute_result"
    }
   ],
   "source": [
    "import sys\n",
    "\n",
    "# 앱실론 출력\n",
    "sys.float_info.epsilon\n",
    "# 0.0000000000000002220446049250313"
   ]
  },
  {
   "cell_type": "code",
   "execution_count": 34,
   "id": "06121990",
   "metadata": {},
   "outputs": [],
   "source": [
    "d = 0.1 + 0.1 + 0.1\n",
    "e = 0.3"
   ]
  },
  {
   "cell_type": "code",
   "execution_count": 35,
   "id": "41fba6d0",
   "metadata": {},
   "outputs": [
    {
     "data": {
      "text/plain": [
       "5.551115123125783e-17"
      ]
     },
     "execution_count": 35,
     "metadata": {},
     "output_type": "execute_result"
    }
   ],
   "source": [
    "d - e   # 0.00000000000000005551115123125783 의 오차 "
   ]
  },
  {
   "cell_type": "code",
   "execution_count": 36,
   "id": "5b7efc1a",
   "metadata": {},
   "outputs": [
    {
     "name": "stdout",
     "output_type": "stream",
     "text": [
      "동일 수\n"
     ]
    }
   ],
   "source": [
    "if abs(d - e) < sys.float_info.epsilon:\n",
    "    print(\"동일 수\")\n",
    "else:\n",
    "    print(\"다른 수\")"
   ]
  },
  {
   "cell_type": "markdown",
   "id": "0dfa1560",
   "metadata": {},
   "source": [
    "### 컬렉션\n",
    "- 리스트, 튜플, 딕셔너리, 셋, 문자열 등\n",
    "- Mutable : 변경할 수 있는 객체\n",
    "- Immutable : 변경할 수 없는 객체, 문자열, 튜플"
   ]
  },
  {
   "cell_type": "markdown",
   "id": "2e7e5db3",
   "metadata": {},
   "source": [
    "#### 뮤터블"
   ]
  },
  {
   "cell_type": "code",
   "execution_count": 37,
   "id": "0f665161",
   "metadata": {},
   "outputs": [
    {
     "data": {
      "text/plain": [
       "7"
      ]
     },
     "execution_count": 37,
     "metadata": {},
     "output_type": "execute_result"
    }
   ],
   "source": [
    "nlist = [1,3,5,7,9]\n",
    "nlist[3]"
   ]
  },
  {
   "cell_type": "code",
   "execution_count": 38,
   "id": "e8413980",
   "metadata": {},
   "outputs": [],
   "source": [
    "nlist[3] = 8"
   ]
  },
  {
   "cell_type": "code",
   "execution_count": 39,
   "id": "fe3194f9",
   "metadata": {},
   "outputs": [
    {
     "data": {
      "text/plain": [
       "[1, 3, 5, 8, 9]"
      ]
     },
     "execution_count": 39,
     "metadata": {},
     "output_type": "execute_result"
    }
   ],
   "source": [
    "nlist"
   ]
  },
  {
   "cell_type": "markdown",
   "id": "0b0b4084",
   "metadata": {},
   "source": [
    "#### 이뮤터블"
   ]
  },
  {
   "cell_type": "code",
   "execution_count": 41,
   "id": "d41c909d",
   "metadata": {},
   "outputs": [
    {
     "data": {
      "text/plain": [
       "7"
      ]
     },
     "execution_count": 41,
     "metadata": {},
     "output_type": "execute_result"
    }
   ],
   "source": [
    "ntuple = (1,3,5,7,9)\n",
    "ntuple[3]"
   ]
  },
  {
   "cell_type": "code",
   "execution_count": 42,
   "id": "e94d4e37",
   "metadata": {},
   "outputs": [
    {
     "ename": "TypeError",
     "evalue": "'tuple' object does not support item assignment",
     "output_type": "error",
     "traceback": [
      "\u001b[31m---------------------------------------------------------------------------\u001b[39m",
      "\u001b[31mTypeError\u001b[39m                                 Traceback (most recent call last)",
      "\u001b[36mCell\u001b[39m\u001b[36m \u001b[39m\u001b[32mIn[42]\u001b[39m\u001b[32m, line 1\u001b[39m\n\u001b[32m----> \u001b[39m\u001b[32m1\u001b[39m \u001b[43mntuple\u001b[49m\u001b[43m[\u001b[49m\u001b[32;43m3\u001b[39;49m\u001b[43m]\u001b[49m = \u001b[32m8\u001b[39m   \u001b[38;5;66;03m# 튜플은 값을 리스트처럼 변경할 수 없음\u001b[39;00m\n",
      "\u001b[31mTypeError\u001b[39m: 'tuple' object does not support item assignment"
     ]
    }
   ],
   "source": [
    "ntuple[3] = 8   # 튜플은 값을 리스트처럼 변경할 수 없음"
   ]
  },
  {
   "cell_type": "code",
   "execution_count": 43,
   "id": "acb600c8",
   "metadata": {},
   "outputs": [
    {
     "data": {
      "text/plain": [
       "'o'"
      ]
     },
     "execution_count": 43,
     "metadata": {},
     "output_type": "execute_result"
    }
   ],
   "source": [
    "mystring = \"Hello\"\n",
    "mystring[4]"
   ]
  },
  {
   "cell_type": "code",
   "execution_count": 44,
   "id": "afe78e68",
   "metadata": {},
   "outputs": [
    {
     "ename": "TypeError",
     "evalue": "'str' object does not support item assignment",
     "output_type": "error",
     "traceback": [
      "\u001b[31m---------------------------------------------------------------------------\u001b[39m",
      "\u001b[31mTypeError\u001b[39m                                 Traceback (most recent call last)",
      "\u001b[36mCell\u001b[39m\u001b[36m \u001b[39m\u001b[32mIn[44]\u001b[39m\u001b[32m, line 1\u001b[39m\n\u001b[32m----> \u001b[39m\u001b[32m1\u001b[39m \u001b[43mmystring\u001b[49m\u001b[43m[\u001b[49m\u001b[32;43m4\u001b[39;49m\u001b[43m]\u001b[49m = \u001b[33m'\u001b[39m\u001b[33m'\u001b[39m    \u001b[38;5;66;03m# 문자열도 요소 값을 변경할 수 없음\u001b[39;00m\n",
      "\u001b[31mTypeError\u001b[39m: 'str' object does not support item assignment"
     ]
    }
   ],
   "source": [
    "mystring[4] = ''    # 문자열도 요소 값을 변경할 수 없음"
   ]
  },
  {
   "cell_type": "code",
   "execution_count": 45,
   "id": "142fb304",
   "metadata": {},
   "outputs": [
    {
     "data": {
      "text/plain": [
       "'Hell'"
      ]
     },
     "execution_count": 45,
     "metadata": {},
     "output_type": "execute_result"
    }
   ],
   "source": [
    "mystring[0:4]"
   ]
  },
  {
   "cell_type": "markdown",
   "id": "73bd98d4",
   "metadata": {},
   "source": [
    "#### 리스트"
   ]
  },
  {
   "cell_type": "code",
   "execution_count": 46,
   "id": "1d567a21",
   "metadata": {},
   "outputs": [],
   "source": [
    "list1 = [1,2,3,4,5]\n",
    "list2 = [1,3,5] + [7,9]\n",
    "list3 = list(list1)"
   ]
  },
  {
   "cell_type": "code",
   "execution_count": 47,
   "id": "447ecb99",
   "metadata": {},
   "outputs": [
    {
     "data": {
      "text/plain": [
       "[1, 2, 3, 4, 5]"
      ]
     },
     "execution_count": 47,
     "metadata": {},
     "output_type": "execute_result"
    }
   ],
   "source": [
    "list1"
   ]
  },
  {
   "cell_type": "code",
   "execution_count": 48,
   "id": "71f23aca",
   "metadata": {},
   "outputs": [
    {
     "data": {
      "text/plain": [
       "[1, 3, 5, 7, 9]"
      ]
     },
     "execution_count": 48,
     "metadata": {},
     "output_type": "execute_result"
    }
   ],
   "source": [
    "list2"
   ]
  },
  {
   "cell_type": "code",
   "execution_count": 49,
   "id": "a2313210",
   "metadata": {},
   "outputs": [
    {
     "data": {
      "text/plain": [
       "[1, 2, 3, 4, 5]"
      ]
     },
     "execution_count": 49,
     "metadata": {},
     "output_type": "execute_result"
    }
   ],
   "source": [
    "list3"
   ]
  },
  {
   "cell_type": "code",
   "execution_count": 50,
   "id": "9eeb6dfd",
   "metadata": {},
   "outputs": [],
   "source": [
    "nlist2 = list(ntuple)"
   ]
  },
  {
   "cell_type": "code",
   "execution_count": 51,
   "id": "ca0aca50",
   "metadata": {},
   "outputs": [],
   "source": [
    "nlist2[4] = 11"
   ]
  },
  {
   "cell_type": "code",
   "execution_count": 52,
   "id": "7a5f059c",
   "metadata": {},
   "outputs": [
    {
     "data": {
      "text/plain": [
       "(1, 3, 5, 7, 11)"
      ]
     },
     "execution_count": 52,
     "metadata": {},
     "output_type": "execute_result"
    }
   ],
   "source": [
    "tuple(nlist2)"
   ]
  },
  {
   "cell_type": "code",
   "execution_count": 58,
   "id": "5195a411",
   "metadata": {},
   "outputs": [],
   "source": [
    "list4 = [1,2,4]"
   ]
  },
  {
   "cell_type": "code",
   "execution_count": 59,
   "id": "ce62b759",
   "metadata": {},
   "outputs": [],
   "source": [
    "list4.append(6)"
   ]
  },
  {
   "cell_type": "code",
   "execution_count": 60,
   "id": "314d6d96",
   "metadata": {},
   "outputs": [
    {
     "data": {
      "text/plain": [
       "[1, 2, 4, 6]"
      ]
     },
     "execution_count": 60,
     "metadata": {},
     "output_type": "execute_result"
    }
   ],
   "source": [
    "list4"
   ]
  },
  {
   "cell_type": "code",
   "execution_count": 62,
   "id": "0fee1d25",
   "metadata": {},
   "outputs": [
    {
     "data": {
      "text/plain": [
       "[1, 3]"
      ]
     },
     "execution_count": 62,
     "metadata": {},
     "output_type": "execute_result"
    }
   ],
   "source": [
    "## 슬라이싱\n",
    "list2[0:2]"
   ]
  },
  {
   "cell_type": "code",
   "execution_count": 63,
   "id": "98a1786f",
   "metadata": {},
   "outputs": [
    {
     "data": {
      "text/plain": [
       "[5]"
      ]
     },
     "execution_count": 63,
     "metadata": {},
     "output_type": "execute_result"
    }
   ],
   "source": [
    "list2[2:3]  # 슬라이싱 뒤의 수는 n+1값이다."
   ]
  },
  {
   "cell_type": "code",
   "execution_count": 64,
   "id": "c8ae75b6",
   "metadata": {},
   "outputs": [
    {
     "data": {
      "text/plain": [
       "[3, 5]"
      ]
     },
     "execution_count": 64,
     "metadata": {},
     "output_type": "execute_result"
    }
   ],
   "source": [
    "list2[-4:-2]"
   ]
  },
  {
   "cell_type": "markdown",
   "id": "727c784b",
   "metadata": {},
   "source": [
    "#### 리스트 컴프리헨션"
   ]
  },
  {
   "cell_type": "code",
   "execution_count": 65,
   "id": "25d14a38",
   "metadata": {},
   "outputs": [],
   "source": [
    "numbers = [x for x in range(21)]"
   ]
  },
  {
   "cell_type": "code",
   "execution_count": 66,
   "id": "3d686dad",
   "metadata": {},
   "outputs": [
    {
     "data": {
      "text/plain": [
       "[0, 1, 2, 3, 4, 5, 6, 7, 8, 9, 10, 11, 12, 13, 14, 15, 16, 17, 18, 19, 20]"
      ]
     },
     "execution_count": 66,
     "metadata": {},
     "output_type": "execute_result"
    }
   ],
   "source": [
    "numbers"
   ]
  },
  {
   "cell_type": "code",
   "execution_count": 67,
   "id": "c1bb7e82",
   "metadata": {},
   "outputs": [
    {
     "data": {
      "text/plain": [
       "[(0, 0), (0, 1), (0, 2), (1, 0), (1, 1), (1, 2)]"
      ]
     },
     "execution_count": 67,
     "metadata": {},
     "output_type": "execute_result"
    }
   ],
   "source": [
    "cartesian_product = [(x, y) for x in range(2) for y in range(3)]\n",
    "cartesian_product"
   ]
  },
  {
   "cell_type": "code",
   "execution_count": 68,
   "id": "0da45ef7",
   "metadata": {},
   "outputs": [],
   "source": [
    "# 함수가 포함된 리스트 컴프리헨션\n",
    "def square(x):\n",
    "    return x * x "
   ]
  },
  {
   "cell_type": "code",
   "execution_count": 69,
   "id": "7266c262",
   "metadata": {},
   "outputs": [
    {
     "data": {
      "text/plain": [
       "[0, 1, 4, 9, 16]"
      ]
     },
     "execution_count": 69,
     "metadata": {},
     "output_type": "execute_result"
    }
   ],
   "source": [
    "squares = [square(x) for x in range(5)]\n",
    "squares"
   ]
  },
  {
   "cell_type": "code",
   "execution_count": 70,
   "id": "ed9d3688",
   "metadata": {},
   "outputs": [
    {
     "data": {
      "text/plain": [
       "[0, 1, 4, 9, 16]"
      ]
     },
     "execution_count": 70,
     "metadata": {},
     "output_type": "execute_result"
    }
   ],
   "source": [
    "squares2 = list(map(lambda x: x*x, range(5)))\n",
    "squares2"
   ]
  },
  {
   "cell_type": "code",
   "execution_count": 71,
   "id": "1eeb37ff",
   "metadata": {},
   "outputs": [
    {
     "data": {
      "text/plain": [
       "[2, 4, 6, 8, 10]"
      ]
     },
     "execution_count": 71,
     "metadata": {},
     "output_type": "execute_result"
    }
   ],
   "source": [
    "# 조건문\n",
    "even_numbers = [x for x in range(1, 11) if x % 2 == 0]\n",
    "even_numbers"
   ]
  },
  {
   "cell_type": "code",
   "execution_count": 73,
   "id": "6ae2fb76",
   "metadata": {},
   "outputs": [
    {
     "data": {
      "text/plain": [
       "[-1, 2, -3, 4, -5, 6, -7, 8, -9, 10]"
      ]
     },
     "execution_count": 73,
     "metadata": {},
     "output_type": "execute_result"
    }
   ],
   "source": [
    "wierd_numbers = [x if x % 2 == 0 else -x for x in range(1, 11)]\n",
    "wierd_numbers"
   ]
  },
  {
   "cell_type": "markdown",
   "id": "f8364226",
   "metadata": {},
   "source": [
    "#### 딕셔너리\n",
    "- key와 value의 쌍을 저장하는 해시테이블"
   ]
  },
  {
   "cell_type": "code",
   "execution_count": 74,
   "id": "b628b40d",
   "metadata": {},
   "outputs": [],
   "source": [
    "dict1 = {}"
   ]
  },
  {
   "cell_type": "code",
   "execution_count": 75,
   "id": "9d7a4c89",
   "metadata": {},
   "outputs": [],
   "source": [
    "dict1['apple'] = 1"
   ]
  },
  {
   "cell_type": "code",
   "execution_count": 76,
   "id": "3843d4e1",
   "metadata": {},
   "outputs": [],
   "source": [
    "dict1['samsung'] = 2\n",
    "dict1['lg'] = 3"
   ]
  },
  {
   "cell_type": "code",
   "execution_count": 77,
   "id": "dc29eea9",
   "metadata": {},
   "outputs": [
    {
     "data": {
      "text/plain": [
       "{'apple': 1, 'samsung': 2, 'lg': 3}"
      ]
     },
     "execution_count": 77,
     "metadata": {},
     "output_type": "execute_result"
    }
   ],
   "source": [
    "dict1"
   ]
  },
  {
   "cell_type": "code",
   "execution_count": 78,
   "id": "ffab7029",
   "metadata": {},
   "outputs": [
    {
     "name": "stdout",
     "output_type": "stream",
     "text": [
      "apple: 1\n"
     ]
    }
   ],
   "source": [
    "key = 'apple'\n",
    "if key in dict1:\n",
    "    value = dict1[key]\n",
    "    print(f'{key}: {value}')\n",
    "else:\n",
    "    print(f'{key} doesnt exist')"
   ]
  },
  {
   "cell_type": "code",
   "execution_count": 79,
   "id": "c39b8e31",
   "metadata": {},
   "outputs": [],
   "source": [
    "dict1['lg'] = 4"
   ]
  },
  {
   "cell_type": "code",
   "execution_count": 80,
   "id": "0f900be9",
   "metadata": {},
   "outputs": [],
   "source": [
    "del dict1['lg']"
   ]
  },
  {
   "cell_type": "code",
   "execution_count": 81,
   "id": "1d0444b6",
   "metadata": {},
   "outputs": [
    {
     "data": {
      "text/plain": [
       "{'apple': 1, 'samsung': 2}"
      ]
     },
     "execution_count": 81,
     "metadata": {},
     "output_type": "execute_result"
    }
   ],
   "source": [
    "dict1"
   ]
  },
  {
   "cell_type": "markdown",
   "id": "19a8ff02",
   "metadata": {},
   "source": [
    "#### 셋\n",
    "- 집합, 교집합, 합집합 등 가능"
   ]
  },
  {
   "cell_type": "code",
   "execution_count": 82,
   "id": "e7baf2c3",
   "metadata": {},
   "outputs": [
    {
     "data": {
      "text/plain": [
       "set()"
      ]
     },
     "execution_count": 82,
     "metadata": {},
     "output_type": "execute_result"
    }
   ],
   "source": [
    "# 초기화\n",
    "empty_set = set()\n",
    "empty_set"
   ]
  },
  {
   "cell_type": "code",
   "execution_count": 83,
   "id": "bfb237fe",
   "metadata": {},
   "outputs": [
    {
     "data": {
      "text/plain": [
       "{1, 2, 3, 5}"
      ]
     },
     "execution_count": 83,
     "metadata": {},
     "output_type": "execute_result"
    }
   ],
   "source": [
    "set([1, 2, 3, 5, 3, 3, 2])  # 집합은 중복제거"
   ]
  },
  {
   "cell_type": "code",
   "execution_count": 84,
   "id": "3d67a96d",
   "metadata": {},
   "outputs": [
    {
     "data": {
      "text/plain": [
       "{1, 7, 12, 14}"
      ]
     },
     "execution_count": 84,
     "metadata": {},
     "output_type": "execute_result"
    }
   ],
   "source": [
    "set1 = {12, 14, 1, 7, 1}\n",
    "set1"
   ]
  },
  {
   "cell_type": "code",
   "execution_count": 85,
   "id": "185d817e",
   "metadata": {},
   "outputs": [
    {
     "data": {
      "text/plain": [
       "{' ', 'd', 'e', 'h', 'l', 'o', 'r', 'w'}"
      ]
     },
     "execution_count": 85,
     "metadata": {},
     "output_type": "execute_result"
    }
   ],
   "source": [
    "set2 = set(\"hello world\")\n",
    "set2    # ASCII 알파벳 오름차순으로 출력"
   ]
  },
  {
   "cell_type": "code",
   "execution_count": 86,
   "id": "e858c67e",
   "metadata": {},
   "outputs": [
    {
     "data": {
      "text/plain": [
       "{2, 4, 6, 8, 10}"
      ]
     },
     "execution_count": 86,
     "metadata": {},
     "output_type": "execute_result"
    }
   ],
   "source": [
    "# Set Comprihension\n",
    "compri_set = {x for x in range(1, 11) if x % 2 == 0}\n",
    "compri_set"
   ]
  },
  {
   "cell_type": "code",
   "execution_count": 87,
   "id": "7aa003bf",
   "metadata": {},
   "outputs": [],
   "source": [
    "set3 = {1,3,5}"
   ]
  },
  {
   "cell_type": "code",
   "execution_count": 88,
   "id": "4c2cf4fb",
   "metadata": {},
   "outputs": [],
   "source": [
    "set3.add(7)"
   ]
  },
  {
   "cell_type": "code",
   "execution_count": 89,
   "id": "06a90e7a",
   "metadata": {},
   "outputs": [
    {
     "data": {
      "text/plain": [
       "{1, 3, 5, 7}"
      ]
     },
     "execution_count": 89,
     "metadata": {},
     "output_type": "execute_result"
    }
   ],
   "source": [
    "set3"
   ]
  },
  {
   "cell_type": "code",
   "execution_count": 90,
   "id": "bcd83cb9",
   "metadata": {},
   "outputs": [],
   "source": [
    "set3.add(3)"
   ]
  },
  {
   "cell_type": "code",
   "execution_count": 91,
   "id": "7f3a02bb",
   "metadata": {},
   "outputs": [
    {
     "data": {
      "text/plain": [
       "{1, 3, 5, 7}"
      ]
     },
     "execution_count": 91,
     "metadata": {},
     "output_type": "execute_result"
    }
   ],
   "source": [
    "set3"
   ]
  },
  {
   "cell_type": "code",
   "execution_count": 92,
   "id": "0c2912c9",
   "metadata": {},
   "outputs": [],
   "source": [
    "set3.update([9, 11, 1])"
   ]
  },
  {
   "cell_type": "code",
   "execution_count": 93,
   "id": "63a29053",
   "metadata": {},
   "outputs": [
    {
     "data": {
      "text/plain": [
       "{1, 3, 5, 7, 9, 11}"
      ]
     },
     "execution_count": 93,
     "metadata": {},
     "output_type": "execute_result"
    }
   ],
   "source": [
    "set3"
   ]
  },
  {
   "cell_type": "code",
   "execution_count": 94,
   "id": "3e3ea506",
   "metadata": {},
   "outputs": [],
   "source": [
    "set3.remove(11)"
   ]
  },
  {
   "cell_type": "code",
   "execution_count": 95,
   "id": "fa167860",
   "metadata": {},
   "outputs": [
    {
     "data": {
      "text/plain": [
       "{1, 3, 5, 7, 9}"
      ]
     },
     "execution_count": 95,
     "metadata": {},
     "output_type": "execute_result"
    }
   ],
   "source": [
    "set3"
   ]
  },
  {
   "cell_type": "code",
   "execution_count": 96,
   "id": "f9e5aea1",
   "metadata": {},
   "outputs": [
    {
     "ename": "KeyError",
     "evalue": "4",
     "output_type": "error",
     "traceback": [
      "\u001b[31m---------------------------------------------------------------------------\u001b[39m",
      "\u001b[31mKeyError\u001b[39m                                  Traceback (most recent call last)",
      "\u001b[36mCell\u001b[39m\u001b[36m \u001b[39m\u001b[32mIn[96]\u001b[39m\u001b[32m, line 1\u001b[39m\n\u001b[32m----> \u001b[39m\u001b[32m1\u001b[39m \u001b[43mset3\u001b[49m\u001b[43m.\u001b[49m\u001b[43mremove\u001b[49m\u001b[43m(\u001b[49m\u001b[32;43m4\u001b[39;49m\u001b[43m)\u001b[49m\n",
      "\u001b[31mKeyError\u001b[39m: 4"
     ]
    }
   ],
   "source": [
    "set3.remove(4)"
   ]
  },
  {
   "cell_type": "code",
   "execution_count": 97,
   "id": "5c758048",
   "metadata": {},
   "outputs": [],
   "source": [
    "set3.discard(4)"
   ]
  },
  {
   "cell_type": "code",
   "execution_count": 98,
   "id": "05a47834",
   "metadata": {},
   "outputs": [],
   "source": [
    "set3.clear()"
   ]
  },
  {
   "cell_type": "code",
   "execution_count": 99,
   "id": "854f300d",
   "metadata": {},
   "outputs": [
    {
     "data": {
      "text/plain": [
       "set()"
      ]
     },
     "execution_count": 99,
     "metadata": {},
     "output_type": "execute_result"
    }
   ],
   "source": [
    "set3"
   ]
  },
  {
   "cell_type": "markdown",
   "id": "98fe9eb3",
   "metadata": {},
   "source": [
    "#### 합집합"
   ]
  },
  {
   "cell_type": "code",
   "execution_count": 100,
   "id": "757ebada",
   "metadata": {},
   "outputs": [],
   "source": [
    "set4 = {1,2,3}\n",
    "set5 = {3,4,5}"
   ]
  },
  {
   "cell_type": "code",
   "execution_count": 101,
   "id": "dbca8d6e",
   "metadata": {},
   "outputs": [
    {
     "data": {
      "text/plain": [
       "{1, 2, 3, 4, 5}"
      ]
     },
     "execution_count": 101,
     "metadata": {},
     "output_type": "execute_result"
    }
   ],
   "source": [
    "union_set = set4.union(set5)\n",
    "union_set"
   ]
  },
  {
   "cell_type": "code",
   "execution_count": 102,
   "id": "beee3ad4",
   "metadata": {},
   "outputs": [],
   "source": [
    "set4 |= set5"
   ]
  },
  {
   "cell_type": "code",
   "execution_count": 103,
   "id": "18229389",
   "metadata": {},
   "outputs": [
    {
     "data": {
      "text/plain": [
       "{1, 2, 3, 4, 5}"
      ]
     },
     "execution_count": 103,
     "metadata": {},
     "output_type": "execute_result"
    }
   ],
   "source": [
    "set4"
   ]
  },
  {
   "cell_type": "markdown",
   "id": "178d78d8",
   "metadata": {},
   "source": [
    "#### 교집합"
   ]
  },
  {
   "cell_type": "code",
   "execution_count": 104,
   "id": "734b84b4",
   "metadata": {},
   "outputs": [],
   "source": [
    "set4 = {1,2,3}\n",
    "set5 = {3,4,5}"
   ]
  },
  {
   "cell_type": "code",
   "execution_count": 105,
   "id": "00a3a07a",
   "metadata": {},
   "outputs": [
    {
     "data": {
      "text/plain": [
       "{3}"
      ]
     },
     "execution_count": 105,
     "metadata": {},
     "output_type": "execute_result"
    }
   ],
   "source": [
    "intersection_set = set4.intersection(set5)\n",
    "intersection_set"
   ]
  },
  {
   "cell_type": "code",
   "execution_count": 106,
   "id": "11d4a584",
   "metadata": {},
   "outputs": [],
   "source": [
    "set4 = {1,2,3}\n",
    "set5 = {3,4,5}"
   ]
  },
  {
   "cell_type": "code",
   "execution_count": 107,
   "id": "34928f5a",
   "metadata": {},
   "outputs": [
    {
     "data": {
      "text/plain": [
       "{1, 2}"
      ]
     },
     "execution_count": 107,
     "metadata": {},
     "output_type": "execute_result"
    }
   ],
   "source": [
    "difference_set = set4.difference(set5)\n",
    "difference_set"
   ]
  },
  {
   "cell_type": "markdown",
   "id": "73c701a7",
   "metadata": {},
   "source": [
    "#### 튜플"
   ]
  },
  {
   "cell_type": "code",
   "execution_count": 108,
   "id": "494c7965",
   "metadata": {},
   "outputs": [],
   "source": [
    "tuple7 = (1,2,3)"
   ]
  },
  {
   "cell_type": "code",
   "execution_count": 109,
   "id": "f7f89e30",
   "metadata": {},
   "outputs": [
    {
     "data": {
      "text/plain": [
       "3"
      ]
     },
     "execution_count": 109,
     "metadata": {},
     "output_type": "execute_result"
    }
   ],
   "source": [
    "tuple7[2]"
   ]
  },
  {
   "cell_type": "markdown",
   "id": "f62dc446",
   "metadata": {},
   "source": [
    "#### 문자열"
   ]
  },
  {
   "cell_type": "code",
   "execution_count": 110,
   "id": "86da0529",
   "metadata": {},
   "outputs": [],
   "source": [
    "string1 = \"Hello World\"\n",
    "string2 = 'Hello World'"
   ]
  },
  {
   "cell_type": "code",
   "execution_count": 111,
   "id": "30527dfd",
   "metadata": {},
   "outputs": [
    {
     "data": {
      "text/plain": [
       "'Hello'"
      ]
     },
     "execution_count": 111,
     "metadata": {},
     "output_type": "execute_result"
    }
   ],
   "source": [
    "string3 = \"He\"\n",
    "string3 += \"llo\"\n",
    "string3"
   ]
  },
  {
   "cell_type": "code",
   "execution_count": 112,
   "id": "36e70ed7",
   "metadata": {},
   "outputs": [
    {
     "data": {
      "text/plain": [
       "'Hello'"
      ]
     },
     "execution_count": 112,
     "metadata": {},
     "output_type": "execute_result"
    }
   ],
   "source": [
    "string_list = ['He', 'llo']\n",
    "''.join(string_list)"
   ]
  },
  {
   "cell_type": "code",
   "execution_count": 113,
   "id": "4810f3aa",
   "metadata": {},
   "outputs": [
    {
     "data": {
      "text/plain": [
       "'Heo Word'"
      ]
     },
     "execution_count": 113,
     "metadata": {},
     "output_type": "execute_result"
    }
   ],
   "source": [
    "string2.replace('l', '')"
   ]
  },
  {
   "cell_type": "markdown",
   "id": "1a981bcf",
   "metadata": {},
   "source": [
    "### 함수 \n",
    "#### 함수 정의"
   ]
  },
  {
   "cell_type": "code",
   "execution_count": 114,
   "id": "b6941bb1",
   "metadata": {},
   "outputs": [],
   "source": [
    "def function_name(param1, param2, param3):\n",
    "    # logic\n",
    "    return"
   ]
  },
  {
   "cell_type": "markdown",
   "id": "ce1bb901",
   "metadata": {},
   "source": [
    "#### 람다식"
   ]
  },
  {
   "cell_type": "code",
   "execution_count": 115,
   "id": "cae9aa4c",
   "metadata": {},
   "outputs": [
    {
     "data": {
      "text/plain": [
       "30"
      ]
     },
     "execution_count": 115,
     "metadata": {},
     "output_type": "execute_result"
    }
   ],
   "source": [
    "multi = lambda x, y : x * y\n",
    "multi(5, 6)"
   ]
  },
  {
   "cell_type": "code",
   "execution_count": 116,
   "id": "e5bc2f78",
   "metadata": {},
   "outputs": [
    {
     "data": {
      "text/plain": [
       "[1, 2, 3, 4, 5]"
      ]
     },
     "execution_count": 116,
     "metadata": {},
     "output_type": "execute_result"
    }
   ],
   "source": [
    "nums = [x for x in range(1, 6)]\n",
    "nums"
   ]
  },
  {
   "cell_type": "code",
   "execution_count": 117,
   "id": "66794d29",
   "metadata": {},
   "outputs": [],
   "source": [
    "squares = list(map(lambda x: x * x, nums))"
   ]
  },
  {
   "cell_type": "code",
   "execution_count": 118,
   "id": "c150133d",
   "metadata": {},
   "outputs": [
    {
     "data": {
      "text/plain": [
       "[1, 4, 9, 16, 25]"
      ]
     },
     "execution_count": 118,
     "metadata": {},
     "output_type": "execute_result"
    }
   ],
   "source": [
    "squares"
   ]
  },
  {
   "cell_type": "markdown",
   "id": "03a06c4c",
   "metadata": {},
   "source": [
    "### 코테 구현 노하우\n",
    "\n",
    "#### 조기반환"
   ]
  },
  {
   "cell_type": "code",
   "execution_count": 119,
   "id": "ea2c8b98",
   "metadata": {},
   "outputs": [],
   "source": [
    "def total_price(quantity, price):\n",
    "    total = quantity * price\n",
    "    if total > 100:\n",
    "        return total * 0.9\n",
    "    \n",
    "    return total"
   ]
  },
  {
   "cell_type": "code",
   "execution_count": 120,
   "id": "10456e4c",
   "metadata": {},
   "outputs": [
    {
     "data": {
      "text/plain": [
       "98"
      ]
     },
     "execution_count": 120,
     "metadata": {},
     "output_type": "execute_result"
    }
   ],
   "source": [
    "total_price(2, 49)"
   ]
  },
  {
   "cell_type": "code",
   "execution_count": 121,
   "id": "bea967ce",
   "metadata": {},
   "outputs": [
    {
     "data": {
      "text/plain": [
       "180.0"
      ]
     },
     "execution_count": 121,
     "metadata": {},
     "output_type": "execute_result"
    }
   ],
   "source": [
    "total_price(4, 50)"
   ]
  },
  {
   "cell_type": "markdown",
   "id": "2b5f9896",
   "metadata": {},
   "source": [
    "#### 보호구문 \n",
    "- Validation check"
   ]
  },
  {
   "cell_type": "code",
   "execution_count": null,
   "id": "df81232f",
   "metadata": {},
   "outputs": [],
   "source": [
    "def cal_avg(numbers):\n",
    "    if numbers is None:\n",
    "        return None                     # 값이 없으면 예외처리, C기법\n",
    "    \n",
    "    if not isinstance(numbers, list):   # 값이 리스트가 아니면 종료\n",
    "        return None\n",
    "    \n",
    "    if len(numbers) == 0:               # 값의 길이가 0이면 종료\n",
    "        return None\n",
    "    \n",
    "    total = sum(numbers)\n",
    "    average = total / len(numbers)\n",
    "    return average"
   ]
  },
  {
   "cell_type": "markdown",
   "id": "b401d227",
   "metadata": {},
   "source": [
    "- 코테 소스에는 최대한 예외처리(try ~ except)를 사용하지 말것\n",
    "- 예외처리 구문에서 예외가 발생하면 속도가 느려짐"
   ]
  },
  {
   "cell_type": "markdown",
   "id": "8a6aafb9",
   "metadata": {},
   "source": [
    "#### 합성 함수\n",
    "- 2개 이상의 함수를 활용하여 추가로 함수를 만드는 방법"
   ]
  },
  {
   "cell_type": "code",
   "execution_count": 123,
   "id": "0c109702",
   "metadata": {},
   "outputs": [],
   "source": [
    "def add_three(x):\n",
    "    return x + 3\n",
    "\n",
    "def square(x):\n",
    "    return x * x"
   ]
  },
  {
   "cell_type": "code",
   "execution_count": 124,
   "id": "94674613",
   "metadata": {},
   "outputs": [],
   "source": [
    "# 합성함수\n",
    "composed_function = lambda x : square(add_three(x))"
   ]
  },
  {
   "cell_type": "code",
   "execution_count": 125,
   "id": "301f5789",
   "metadata": {},
   "outputs": [
    {
     "data": {
      "text/plain": [
       "36"
      ]
     },
     "execution_count": 125,
     "metadata": {},
     "output_type": "execute_result"
    }
   ],
   "source": [
    "composed_function(3)    # (3 + 3)^2 = 36"
   ]
  }
 ],
 "metadata": {
  "kernelspec": {
   "display_name": "3.11.9",
   "language": "python",
   "name": "python3"
  },
  "language_info": {
   "codemirror_mode": {
    "name": "ipython",
    "version": 3
   },
   "file_extension": ".py",
   "mimetype": "text/x-python",
   "name": "python",
   "nbconvert_exporter": "python",
   "pygments_lexer": "ipython3",
   "version": "3.11.9"
  }
 },
 "nbformat": 4,
 "nbformat_minor": 5
}
