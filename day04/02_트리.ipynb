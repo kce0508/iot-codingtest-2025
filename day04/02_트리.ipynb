{
 "cells": [
  {
   "cell_type": "markdown",
   "id": "5e6df1e9",
   "metadata": {},
   "source": [
    "## 트리\n",
    "\n",
    "### 몸풀기 문제\n",
    "\n",
    "#### 트리 순회\n",
    "- preorder, inorder, postorder"
   ]
  },
  {
   "cell_type": "code",
   "execution_count": 6,
   "id": "43cad77d",
   "metadata": {},
   "outputs": [],
   "source": [
    "# root, letf, right 순으로 순회\n",
    "def preorder(nodes, index):\n",
    "    # index가 노드의 리스트의 길이보다 작으면\n",
    "    if index < len(nodes):\n",
    "        ret = str(nodes[index]) + ' '\n",
    "        ret += preorder(nodes, index * 2 + 1)   # 배열이어서 index * 2 + 1 이 트리노드 왼쪽\n",
    "        ret += preorder(nodes, index * 2 + 2)   # 배열이어서 index * 2 + 1 이 트리노드 오른쪽\n",
    "        return ret\n",
    "    else:\n",
    "        return ''\n",
    "\n",
    "# letf, root, right 순으로 순회\n",
    "def inorder(nodes, idx):\n",
    "    if idx < len(nodes):\n",
    "        ret = inorder(nodes, idx * 2 + 1)\n",
    "        ret += str(nodes[idx]) + ' '\n",
    "        ret += inorder(nodes, idx * 2 + 2)\n",
    "        return ret\n",
    "    else:\n",
    "        return ''\n",
    "    \n",
    "# letf, right, root 순으로 순회\n",
    "def postorder(nodes, idx):\n",
    "    if idx < len(nodes):\n",
    "        ret = postorder(nodes, idx * 2 + 1)\n",
    "        ret += postorder(nodes, idx * 2 + 2)\n",
    "        ret += str(nodes[idx]) + ' '\n",
    "        return ret\n",
    "    else:\n",
    "        return ''\n",
    "    \n",
    "def solution(nodes):\n",
    "    return [\n",
    "        preorder(nodes, 0)[:-1],    # [:-1] 마지막 공백 제거\n",
    "        inorder(nodes, 0)[:-1],\n",
    "        postorder(nodes, 0)[:-1],\n",
    "    ]"
   ]
  },
  {
   "cell_type": "code",
   "execution_count": 7,
   "id": "cd7ef420",
   "metadata": {},
   "outputs": [
    {
     "data": {
      "text/plain": [
       "['1 2 4 5 3 6 7', '4 2 5 1 6 3 7', '4 5 2 6 7 3 1']"
      ]
     },
     "execution_count": 7,
     "metadata": {},
     "output_type": "execute_result"
    }
   ],
   "source": [
    "solution([1,2,3,4,5,6,7])"
   ]
  },
  {
   "cell_type": "markdown",
   "id": "6e86d89a",
   "metadata": {},
   "source": [
    "#### 이진 탐색 트리 구현\n",
    "- 추후 구현"
   ]
  },
  {
   "cell_type": "markdown",
   "id": "e8104f6a",
   "metadata": {},
   "source": [
    "### 모의 테스트\n",
    "\n",
    "#### 예상 대진표\n",
    "- "
   ]
  }
 ],
 "metadata": {
  "kernelspec": {
   "display_name": "3.11.9",
   "language": "python",
   "name": "python3"
  },
  "language_info": {
   "codemirror_mode": {
    "name": "ipython",
    "version": 3
   },
   "file_extension": ".py",
   "mimetype": "text/x-python",
   "name": "python",
   "nbconvert_exporter": "python",
   "pygments_lexer": "ipython3",
   "version": "3.11.9"
  }
 },
 "nbformat": 4,
 "nbformat_minor": 5
}
