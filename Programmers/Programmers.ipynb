{
 "cells": [
  {
   "cell_type": "markdown",
   "id": "bbc17f85",
   "metadata": {},
   "source": [
    "## 완전 범죄 \n",
    "- https://school.programmers.co.kr/learn/courses/30/lessons/389480\n",
    "\n",
    "A도둑과 B도둑이 팀을 이루어 모든 물건을 훔치려고 합니다. 단, 각 도둑이 물건을 훔칠 때 남기는 흔적이 누적되면 경찰에 붙잡히기 때문에, 두 도둑 중 누구도 경찰에 붙잡히지 않도록 흔적을 최소화해야 합니다.\n",
    "\n",
    "물건을 훔칠 때 조건은 아래와 같습니다.\n",
    "\n",
    "- 물건 i를 훔칠 때,\n",
    "    - A도둑이 훔치면 info[i][0]개의 A에 대한 흔적을 남깁니다.\n",
    "    - B도둑이 훔치면 info[i][1]개의 B에 대한 흔적을 남깁니다.\n",
    "- 각 물건에 대해 A도둑과 B도둑이 남기는 흔적의 개수는 1 이상 3 이하입니다.\n",
    "경찰에 붙잡히는 조건은 아래와 같습니다.\n",
    "\n",
    "- A도둑은 자신이 남긴 흔적의 누적 개수가 n개 이상이면 경찰에 붙잡힙니다.\n",
    "- B도둑은 자신이 남긴 흔적의 누적 개수가 m개 이상이면 경찰에 붙잡힙니다.\n",
    "\n",
    "각 물건을 훔칠 때 생기는 흔적에 대한 정보를 담은 2차원 정수 배열 info, A도둑이 경찰에 붙잡히는 최소 흔적 개수를 나타내는 정수 n, B도둑이 경찰에 붙잡히는 최소 흔적 개수를 나타내는 정수 m이 매개변수로 주어집니다. 두 도둑 모두 경찰에 붙잡히지 않도록 모든 물건을 훔쳤을 때, A도둑이 남긴 흔적의 누적 개수의 최솟값을 return 하도록 solution 함수를 완성해 주세요. 만약 어떠한 방법으로도 두 도둑 모두 경찰에 붙잡히지 않게 할 수 없다면 -1을 return해 주세요."
   ]
  },
  {
   "cell_type": "markdown",
   "id": "b0203b50",
   "metadata": {},
   "source": [
    "#### 제한사항\n",
    "- 1 ≤ info의 길이 ≤ 40\n",
    "    - info[i]는 물건 i를 훔칠 때 생기는 흔적의 개수를 나타내며, [A에 대한 흔적 개수, B에 대한 흔적 개수]의 형태입니다.\n",
    "    - 1 ≤ 흔적 개수 ≤ 3\n",
    "- 1 ≤ n ≤ 120\n",
    "- 1 ≤ m ≤ 120"
   ]
  },
  {
   "cell_type": "code",
   "execution_count": 37,
   "id": "1b73368f",
   "metadata": {},
   "outputs": [],
   "source": [
    "def solution(info, n, m):\n",
    "    INF = 99999999\n",
    "    memo = {}\n",
    "\n",
    "    def dfs(i, a, b):\n",
    "        if a >= n or b >= m:\n",
    "            return INF\n",
    "        if i == len(info):\n",
    "            return 0\n",
    "        key = (i, a, b)\n",
    "        if key in memo:\n",
    "            return memo[key]\n",
    "        \n",
    "        x, y = info[i]\n",
    "        memo[key] = min(\n",
    "            dfs(i+1, a+x, b) + x,   # A가 훔침\n",
    "            dfs(i+1, a, b+y)        # B가 훔침\n",
    "        )\n",
    "        return memo[key]\n",
    "    \n",
    "    res = dfs(0, 0, 0)\n",
    "    return res if res < INF else -1"
   ]
  },
  {
   "cell_type": "code",
   "execution_count": 38,
   "id": "63eaab7d",
   "metadata": {},
   "outputs": [
    {
     "data": {
      "text/plain": [
       "2"
      ]
     },
     "execution_count": 38,
     "metadata": {},
     "output_type": "execute_result"
    }
   ],
   "source": [
    "# 입출력 예1(2 return)\n",
    "solution([[1, 2], [2, 3], [2, 1]], 4, 4)"
   ]
  },
  {
   "cell_type": "code",
   "execution_count": 39,
   "id": "ee9ef6ea",
   "metadata": {},
   "outputs": [
    {
     "data": {
      "text/plain": [
       "0"
      ]
     },
     "execution_count": 39,
     "metadata": {},
     "output_type": "execute_result"
    }
   ],
   "source": [
    "# 입출력 예2(0 return)\n",
    "solution([[1, 2], [2, 3], [2, 1]], 1, 7)"
   ]
  },
  {
   "cell_type": "code",
   "execution_count": 40,
   "id": "2df8849d",
   "metadata": {},
   "outputs": [
    {
     "data": {
      "text/plain": [
       "6"
      ]
     },
     "execution_count": 40,
     "metadata": {},
     "output_type": "execute_result"
    }
   ],
   "source": [
    "# 입출력 예3(6 return)\n",
    "solution([[3, 3], [3, 3]], 7, 1)"
   ]
  },
  {
   "cell_type": "code",
   "execution_count": 41,
   "id": "a23161a3",
   "metadata": {},
   "outputs": [
    {
     "data": {
      "text/plain": [
       "-1"
      ]
     },
     "execution_count": 41,
     "metadata": {},
     "output_type": "execute_result"
    }
   ],
   "source": [
    "# 입출력 예4(-1 return)\n",
    "solution([[3, 3], [3, 3]], 6, 1)"
   ]
  }
 ],
 "metadata": {
  "kernelspec": {
   "display_name": "3.11.9",
   "language": "python",
   "name": "python3"
  },
  "language_info": {
   "codemirror_mode": {
    "name": "ipython",
    "version": 3
   },
   "file_extension": ".py",
   "mimetype": "text/x-python",
   "name": "python",
   "nbconvert_exporter": "python",
   "pygments_lexer": "ipython3",
   "version": "3.11.9"
  }
 },
 "nbformat": 4,
 "nbformat_minor": 5
}
