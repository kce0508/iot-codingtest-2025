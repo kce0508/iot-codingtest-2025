{
 "cells": [
  {
   "cell_type": "markdown",
   "id": "e0d50b72",
   "metadata": {},
   "source": [
    "## 배열\n",
    "\n",
    "### 배열선언\n",
    "\n",
    "#### 일반적 배열 선언"
   ]
  },
  {
   "cell_type": "code",
   "execution_count": 2,
   "id": "68715991",
   "metadata": {},
   "outputs": [
    {
     "data": {
      "text/plain": [
       "[0, 0, 0, 0, 0, 0]"
      ]
     },
     "execution_count": 2,
     "metadata": {},
     "output_type": "execute_result"
    }
   ],
   "source": [
    "arr1 = [0, 0, 0, 0, 0, 0,]\n",
    "arr1"
   ]
  },
  {
   "cell_type": "code",
   "execution_count": 3,
   "id": "9a2d49a1",
   "metadata": {},
   "outputs": [
    {
     "data": {
      "text/plain": [
       "[0, 0, 0, 0, 0, 0]"
      ]
     },
     "execution_count": 3,
     "metadata": {},
     "output_type": "execute_result"
    }
   ],
   "source": [
    "arr2 = [0] * 6\n",
    "arr2"
   ]
  },
  {
   "cell_type": "markdown",
   "id": "84686385",
   "metadata": {},
   "source": [
    "#### 리스트 생성자 사용"
   ]
  },
  {
   "cell_type": "code",
   "execution_count": 4,
   "id": "4df9202b",
   "metadata": {},
   "outputs": [
    {
     "data": {
      "text/plain": [
       "[0, 1, 2, 3, 4, 5]"
      ]
     },
     "execution_count": 4,
     "metadata": {},
     "output_type": "execute_result"
    }
   ],
   "source": [
    "arr3 = list(range(6))\n",
    "arr3"
   ]
  },
  {
   "cell_type": "markdown",
   "id": "3100ed77",
   "metadata": {},
   "source": [
    "#### 리스트 컨프리헨션"
   ]
  },
  {
   "cell_type": "code",
   "execution_count": 5,
   "id": "6e7f4aa9",
   "metadata": {},
   "outputs": [
    {
     "data": {
      "text/plain": [
       "[0, 1, 2, 3, 4, 5]"
      ]
     },
     "execution_count": 5,
     "metadata": {},
     "output_type": "execute_result"
    }
   ],
   "source": [
    "arr4 = [x for x in range(6)]\n",
    "arr4"
   ]
  },
  {
   "cell_type": "code",
   "execution_count": null,
   "id": "ed8af336",
   "metadata": {},
   "outputs": [
    {
     "data": {
      "text/plain": [
       "[0, 0, 0, 0, 0, 0]"
      ]
     },
     "execution_count": 7,
     "metadata": {},
     "output_type": "execute_result"
    }
   ],
   "source": [
    "# 어짜피 사용하지 않는 변수라면 _(사용하지 않는 변수)로 변경하라\n",
    "arr5 = [0 for _ in range(6)]\n",
    "arr5"
   ]
  },
  {
   "cell_type": "code",
   "execution_count": 8,
   "id": "4d9f23d7",
   "metadata": {},
   "outputs": [
    {
     "data": {
      "text/plain": [
       "15"
      ]
     },
     "execution_count": 8,
     "metadata": {},
     "output_type": "execute_result"
    }
   ],
   "source": [
    "arr4[0] + arr4[1] + arr4[2] + arr4[3] + arr4[4] + arr4[5]"
   ]
  },
  {
   "cell_type": "markdown",
   "id": "a23b4ad9",
   "metadata": {},
   "source": [
    "#### 2차원 배열"
   ]
  },
  {
   "cell_type": "code",
   "execution_count": 11,
   "id": "20fbbe1c",
   "metadata": {},
   "outputs": [
    {
     "data": {
      "text/plain": [
       "[[1, 2, 3, 4], [5, 6, 7, 8], [9, 10, 11, 12]]"
      ]
     },
     "execution_count": 11,
     "metadata": {},
     "output_type": "execute_result"
    }
   ],
   "source": [
    "# 선언\n",
    "arr6 = [[1,2,3,4], [5,6,7,8], [9,10,11,12]]     # 전체 3x4 배열\n",
    "arr6"
   ]
  },
  {
   "cell_type": "code",
   "execution_count": 10,
   "id": "91d404fa",
   "metadata": {},
   "outputs": [
    {
     "data": {
      "text/plain": [
       "[1, 2, 3, 4]"
      ]
     },
     "execution_count": 10,
     "metadata": {},
     "output_type": "execute_result"
    }
   ],
   "source": [
    "arr6[0]     # [1,2,3,4]"
   ]
  },
  {
   "cell_type": "code",
   "execution_count": 12,
   "id": "b59aa450",
   "metadata": {},
   "outputs": [
    {
     "data": {
      "text/plain": [
       "4"
      ]
     },
     "execution_count": 12,
     "metadata": {},
     "output_type": "execute_result"
    }
   ],
   "source": [
    "arr6[0][3]  # 0행 3열 값을 표시하라"
   ]
  },
  {
   "cell_type": "code",
   "execution_count": 13,
   "id": "b86f65b6",
   "metadata": {},
   "outputs": [],
   "source": [
    "arr6[2][3] = 19"
   ]
  },
  {
   "cell_type": "code",
   "execution_count": 14,
   "id": "cf107a11",
   "metadata": {},
   "outputs": [
    {
     "data": {
      "text/plain": [
       "[[1, 2, 3, 4], [5, 6, 7, 8], [9, 10, 11, 19]]"
      ]
     },
     "execution_count": 14,
     "metadata": {},
     "output_type": "execute_result"
    }
   ],
   "source": [
    "arr6"
   ]
  },
  {
   "cell_type": "markdown",
   "id": "d832a557",
   "metadata": {},
   "source": [
    "#### 리스트 컨프리헨션"
   ]
  },
  {
   "cell_type": "code",
   "execution_count": 16,
   "id": "8394b922",
   "metadata": {},
   "outputs": [
    {
     "data": {
      "text/plain": [
       "[[1, 2, 3, 4], [5, 6, 7, 8], [9, 10, 11, 12]]"
      ]
     },
     "execution_count": 16,
     "metadata": {},
     "output_type": "execute_result"
    }
   ],
   "source": [
    "arr7 = [[x for x in range(1 + y * 4, 5 + y * 4)] for y in range(3)]\n",
    "arr7"
   ]
  },
  {
   "cell_type": "code",
   "execution_count": 17,
   "id": "2497fe03",
   "metadata": {},
   "outputs": [
    {
     "data": {
      "text/plain": [
       "[1, 2, 3, 4]"
      ]
     },
     "execution_count": 17,
     "metadata": {},
     "output_type": "execute_result"
    }
   ],
   "source": [
    "[x for x in range(1, 5)]"
   ]
  },
  {
   "cell_type": "markdown",
   "id": "6f4245ce",
   "metadata": {},
   "source": [
    "### 배열 시간 복잡도\n",
    "- 배열 요소에 접근하는 시간 복잡도 : $ O (1) $ . 소요시간이 전혀 걸리지 않음\n",
    "- 배열에 맨 처음이나 중간에 삽입하는 시간 복잡도 : $ O (n) $ \n",
    "- 배열에 맨 처음이나 중간에 삭제하는 시간 복잡도 : $ O (n) $ \n",
    "\n",
    "#### 배열 선택시 고려점\n",
    "- 할당할 메모리 크기 확인. 1차원 배열 최애 1000만개, 2차원 배열 최대 3000 * 3000 (900만개)\n",
    "- 중간에 데이터 삽입이 많으면 시간복잡도가 높아짐"
   ]
  },
  {
   "cell_type": "markdown",
   "id": "f4cf4822",
   "metadata": {},
   "source": [
    "### 자주 사용하는 리스트 문법\n",
    "#### append"
   ]
  },
  {
   "cell_type": "code",
   "execution_count": 18,
   "id": "7e4c1d87",
   "metadata": {},
   "outputs": [],
   "source": [
    "my_list = [1,2,3]\n",
    "my_list.append(4)"
   ]
  },
  {
   "cell_type": "code",
   "execution_count": 19,
   "id": "48b36425",
   "metadata": {},
   "outputs": [
    {
     "data": {
      "text/plain": [
       "[1, 2, 3, 4]"
      ]
     },
     "execution_count": 19,
     "metadata": {},
     "output_type": "execute_result"
    }
   ],
   "source": [
    "my_list"
   ]
  },
  {
   "cell_type": "markdown",
   "id": "b06ed9bf",
   "metadata": {},
   "source": [
    "#### + 연산자 사용"
   ]
  },
  {
   "cell_type": "code",
   "execution_count": 20,
   "id": "cb4396e9",
   "metadata": {},
   "outputs": [
    {
     "data": {
      "text/plain": [
       "[1, 2, 3, 4, 5, 6]"
      ]
     },
     "execution_count": 20,
     "metadata": {},
     "output_type": "execute_result"
    }
   ],
   "source": [
    "my_list = my_list + [5,6]\n",
    "my_list"
   ]
  },
  {
   "cell_type": "markdown",
   "id": "c964f042",
   "metadata": {},
   "source": [
    "#### insert"
   ]
  },
  {
   "cell_type": "code",
   "execution_count": 21,
   "id": "a2fa20b3",
   "metadata": {},
   "outputs": [
    {
     "data": {
      "text/plain": [
       "[1, 2, 3, 999, 4, 5, 6]"
      ]
     },
     "execution_count": 21,
     "metadata": {},
     "output_type": "execute_result"
    }
   ],
   "source": [
    "my_list.insert(3, 999)\n",
    "my_list"
   ]
  },
  {
   "cell_type": "markdown",
   "id": "25b2f964",
   "metadata": {},
   "source": [
    "#### pop() 함수로 데이터 추출"
   ]
  },
  {
   "cell_type": "code",
   "execution_count": null,
   "id": "868c4afa",
   "metadata": {},
   "outputs": [],
   "source": [
    "my_list"
   ]
  },
  {
   "cell_type": "markdown",
   "id": "682f1d92",
   "metadata": {},
   "source": [
    "#### remove()로 데이터 삭제. 값으로 삭제"
   ]
  },
  {
   "cell_type": "code",
   "execution_count": null,
   "id": "d64b5fd7",
   "metadata": {},
   "outputs": [],
   "source": [
    "my_list.remove(3)   # 리스트에서 3을 지워"
   ]
  },
  {
   "cell_type": "code",
   "execution_count": null,
   "id": "7ea8778b",
   "metadata": {},
   "outputs": [],
   "source": [
    "my_list"
   ]
  },
  {
   "cell_type": "markdown",
   "id": "d8ef6782",
   "metadata": {},
   "source": [
    "#### 많이 사용하는 문법"
   ]
  },
  {
   "cell_type": "code",
   "execution_count": null,
   "id": "8f94819c",
   "metadata": {},
   "outputs": [],
   "source": [
    "fruits = ['apple', 'banana', 'ch']"
   ]
  }
 ],
 "metadata": {
  "kernelspec": {
   "display_name": "3.11.9",
   "language": "python",
   "name": "python3"
  },
  "language_info": {
   "codemirror_mode": {
    "name": "ipython",
    "version": 3
   },
   "file_extension": ".py",
   "mimetype": "text/x-python",
   "name": "python",
   "nbconvert_exporter": "python",
   "pygments_lexer": "ipython3",
   "version": "3.11.9"
  }
 },
 "nbformat": 4,
 "nbformat_minor": 5
}
